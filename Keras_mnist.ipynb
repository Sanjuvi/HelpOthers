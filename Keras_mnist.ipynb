{
  "nbformat": 4,
  "nbformat_minor": 0,
  "metadata": {
    "colab": {
      "name": "Untitled1.ipynb",
      "version": "0.3.2",
      "provenance": [],
      "include_colab_link": true
    },
    "kernelspec": {
      "name": "python3",
      "display_name": "Python 3"
    },
    "accelerator": "GPU"
  },
  "cells": [
    {
      "cell_type": "markdown",
      "metadata": {
        "id": "view-in-github",
        "colab_type": "text"
      },
      "source": [
        "<a href=\"https://colab.research.google.com/github/Sanjuvi/HelpOthers/blob/master/Keras_mnist.ipynb\" target=\"_parent\"><img src=\"https://colab.research.google.com/assets/colab-badge.svg\" alt=\"Open In Colab\"/></a>"
      ]
    },
    {
      "metadata": {
        "id": "aehXaSqf_Clv",
        "colab_type": "code",
        "colab": {
          "base_uri": "https://localhost:8080/",
          "height": 357
        },
        "outputId": "6ebf326c-89b6-4e37-be44-a66b53adfb30"
      },
      "cell_type": "code",
      "source": [
        "from keras.models import Sequential\n",
        "from keras.layers import Dense,Conv2D,MaxPooling2D,Flatten\n",
        "from keras.utils import to_categorical\n",
        "import keras\n",
        "((trainx,trainy),(testx,testy))=keras.datasets.mnist.load_data()\n",
        "trainx=trainx.reshape(60000,28,28,1).astype('float32')\n",
        "trainx/=255.0\n",
        "testx=testx.reshape(10000,28,28,1).astype('float32')\n",
        "testx/=255.0\n",
        "trainy=to_categorical(trainy,10)\n",
        "testy=to_categorical(testy,10)\n",
        "cnn=Sequential()\n",
        "cnn.add(Conv2D(32,(5,5),activation=\"relu\",input_shape=(28,28,1)))\n",
        "cnn.add(MaxPooling2D(pool_size=(2,2)))\n",
        "cnn.add(Conv2D(64,(5,5),activation=\"relu\"))\n",
        "cnn.add(MaxPooling2D(2,2))\n",
        "cnn.add(Flatten())\n",
        "cnn.add(Dense(128,activation=\"relu\"))\n",
        "cnn.add(Dense(10,activation=\"softmax\"))\n",
        "cnn.compile(loss=\"categorical_crossentropy\",optimizer=keras.optimizers.SGD(lr=0.01),metrics=['accuracy'])\n",
        "cnn.fit(trainx,trainy,epochs=10,batch_size=128)\n",
        "cnn.save('mymodel.h5')"
      ],
      "execution_count": 14,
      "outputs": [
        {
          "output_type": "stream",
          "text": [
            "Epoch 1/10\n",
            "60000/60000 [==============================] - 5s 78us/step - loss: 0.9587 - acc: 0.7335\n",
            "Epoch 2/10\n",
            "60000/60000 [==============================] - 4s 72us/step - loss: 0.2698 - acc: 0.9200\n",
            "Epoch 3/10\n",
            "60000/60000 [==============================] - 4s 71us/step - loss: 0.1957 - acc: 0.9415\n",
            "Epoch 4/10\n",
            "60000/60000 [==============================] - 4s 71us/step - loss: 0.1562 - acc: 0.9534\n",
            "Epoch 5/10\n",
            "60000/60000 [==============================] - 4s 71us/step - loss: 0.1306 - acc: 0.9609\n",
            "Epoch 6/10\n",
            "60000/60000 [==============================] - 4s 71us/step - loss: 0.1134 - acc: 0.9664\n",
            "Epoch 7/10\n",
            "60000/60000 [==============================] - 4s 71us/step - loss: 0.1006 - acc: 0.9699\n",
            "Epoch 8/10\n",
            "60000/60000 [==============================] - 4s 72us/step - loss: 0.0915 - acc: 0.9726\n",
            "Epoch 9/10\n",
            "60000/60000 [==============================] - 4s 71us/step - loss: 0.0832 - acc: 0.9749\n",
            "Epoch 10/10\n",
            "60000/60000 [==============================] - 4s 72us/step - loss: 0.0770 - acc: 0.9762\n"
          ],
          "name": "stdout"
        }
      ]
    }
  ]
}